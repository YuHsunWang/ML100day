{
 "cells": [
  {
   "cell_type": "code",
   "execution_count": null,
   "id": "bulgarian-literature",
   "metadata": {},
   "outputs": [],
   "source": [
    "#label and grouping\n",
    "df_choice = df_tslog.filter(F.col('position')<=4).withColumn('label', F.col('position')*F.col('was_clicked'))\n",
    "\n",
    "df_choice_id = df_choice.groupBy('requestId').agg(F.sum('label').alias('label'))\n",
    "choice0 = df_choice_id.filter(F.col('label')==0).join(df_choice, on=['requestId','label'], how='left')\n",
    "choice1 = df_choice_id.filter((F.col('label')==0)|(F.col('label')==1)).join(df_choice, on=['requestId','label'], how='left')\n",
    "choice2 = df_choice_id.filter((F.col('label')==0)|(F.col('label')==2)).join(df_choice, on=['requestId','label'], how='left')\n",
    "choice3 = df_choice_id.filter((F.col('label')==0)|(F.col('label')==3)).join(df_choice, on=['requestId','label'], how='left')\n",
    "choice4 = df_choice_id.filter((F.col('label')==0)|(F.col('label')==4)).join(df_choice, on=['requestId','label'], how='left') "
   ]
  },
  {
   "cell_type": "code",
   "execution_count": null,
   "id": "greek-venice",
   "metadata": {},
   "outputs": [],
   "source": [
    "#check ratio by position\n",
    "df_choice_id.groupBy('position').agg(F.sum('was_clicked').alias('total_clicked'), F.sum('sellerDiscount').alias('total_sellerDiscount'), \\\n",
    "                                     F.sum('rutenDiscount').alias('total_rutenDiscount'), F.sum('noShippingCost').alias('total_noShippingCost'),  \\\n",
    "                                     F.sum('pCoin').alias('total_pCoin'), F.sum('oversea').alias('total_oversea'),  \\\n",
    "                                     F.sum('shippingDiscount').alias('total_shippingDiscount'), F.sum('limitesDeliver').alias('total_limitesDeliver'))"
   ]
  },
  {
   "cell_type": "code",
   "execution_count": null,
   "id": "drawn-painting",
   "metadata": {},
   "outputs": [],
   "source": [
    "from pyspark.ml.feature import VectorAssembler\n",
    "assembler = VectorAssembler(inputCols =['label','sellerDiscount','rutenDiscount','noShippingCost','pCoin','oversea','shippingDiscount','limitesDeliver'], outputCol = 'feature')\n",
    "assembler_df = assembler.transform(training)"
   ]
  }
 ],
 "metadata": {
  "kernelspec": {
   "display_name": "Python 3",
   "language": "python",
   "name": "python3"
  },
  "language_info": {
   "codemirror_mode": {
    "name": "ipython",
    "version": 3
   },
   "file_extension": ".py",
   "mimetype": "text/x-python",
   "name": "python",
   "nbconvert_exporter": "python",
   "pygments_lexer": "ipython3",
   "version": "3.8.5"
  }
 },
 "nbformat": 4,
 "nbformat_minor": 5
}
