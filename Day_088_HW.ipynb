{
 "cells": [
  {
   "cell_type": "markdown",
   "metadata": {},
   "source": [
    "## Work\n",
    "1. 請嘗試寫一個 callback 用來記錄各類別在訓練過程中，對驗證集的 True Positive 與 True Negative"
   ]
  },
  {
   "cell_type": "code",
   "execution_count": 1,
   "metadata": {},
   "outputs": [],
   "source": [
    "import os\n",
    "from tensorflow import keras\n",
    "\n",
    "# Disable GPU\n",
    "os.environ[\"CUDA_VISIBLE_DEVICES\"] = \"\""
   ]
  },
  {
   "cell_type": "code",
   "execution_count": 2,
   "metadata": {},
   "outputs": [],
   "source": [
    "train, test = keras.datasets.cifar10.load_data()"
   ]
  },
  {
   "cell_type": "code",
   "execution_count": 3,
   "metadata": {},
   "outputs": [],
   "source": [
    "## 資料前處理\n",
    "def preproc_x(x, flatten=True):\n",
    "    x = x / 255.\n",
    "    if flatten:\n",
    "        x = x.reshape((len(x), -1))\n",
    "    return x\n",
    "\n",
    "def preproc_y(y, num_classes=10):\n",
    "    if y.shape[-1] == 1:\n",
    "        y = keras.utils.to_categorical(y, num_classes)\n",
    "    return y    "
   ]
  },
  {
   "cell_type": "code",
   "execution_count": 4,
   "metadata": {},
   "outputs": [],
   "source": [
    "x_train, y_train = train\n",
    "x_test, y_test = test\n",
    "\n",
    "# Preproc the inputs\n",
    "x_train = preproc_x(x_train)\n",
    "x_test = preproc_x(x_test)\n",
    "\n",
    "# Preprc the outputs\n",
    "y_train = preproc_y(y_train)\n",
    "y_test = preproc_y(y_test)"
   ]
  },
  {
   "cell_type": "code",
   "execution_count": 5,
   "metadata": {},
   "outputs": [],
   "source": [
    "from tensorflow.keras.layers import BatchNormalization\n",
    "def build_mlp(input_shape, output_units=10, num_neurons=[256, 256, 256]):\n",
    "    input_layer = keras.layers.Input(input_shape)\n",
    "    for i, num in enumerate(num_neurons):\n",
    "        if i == 0:\n",
    "            x = keras.layers.Dense(units=num, activation='relu')(input_layer)\n",
    "            x = BatchNormalization()(x)\n",
    "        else:\n",
    "            x = keras.layers.Dense(units=num, activation='relu')(x)\n",
    "            x = BatchNormalization()(x)\n",
    "    out = keras.layers.Dense(units=output_units, activation='softmax')(x)\n",
    "    model = keras.models.Model(inputs=[input_layer], outputs=[out])\n",
    "    return model"
   ]
  },
  {
   "cell_type": "code",
   "execution_count": 6,
   "metadata": {},
   "outputs": [],
   "source": [
    "## 超參數設定\n",
    "LEARNING_RATE = 1e-3\n",
    "EPOCHS = 25\n",
    "BATCH_SIZE = 1024\n",
    "MOMENTUM = 0.95"
   ]
  },
  {
   "cell_type": "code",
   "execution_count": 16,
   "metadata": {},
   "outputs": [],
   "source": [
    "# 載入 Callbacks\n",
    "from tensorflow.keras.callbacks import Callback\n",
    "\n",
    "# Record_fp_tp\n",
    "class Record_tp_tn(Callback):\n",
    "    def __init__(self, validation_data):\n",
    "        self.validation_data=validation_data\n",
    "        \n",
    "    def on_train_begin(self, epoch, logs = {}):\n",
    "        logs = logs \n",
    "        records = ['val_tp','val_tn']\n",
    "        for i in records:\n",
    "            if i not in logs.keys():\n",
    "                logs[i] = []\n",
    "                \n",
    "    def on_epoch_end(self, epoch, logs = {}, thres=0.5):\n",
    "        logs = logs \n",
    "        y_pred = self.model.predict(self.validation_data[0])\n",
    "        y_pred = (y_pred[:,1]>=thres)\n",
    "        y_true = self.validation_data[1].argmax(axis=1)\n",
    "        \n",
    "        tp = sum((y_pred==1) & (y_true==1))\n",
    "        tn = sum((y_pred==0) & (y_true==0))\n",
    "        \n",
    "        logs['val_tp'] = tp\n",
    "        logs['val_tn'] = tn\n",
    "        \n",
    "rec_tptn = Record_tp_tn((x_test,y_test))"
   ]
  },
  {
   "cell_type": "code",
   "execution_count": 17,
   "metadata": {
    "scrolled": true
   },
   "outputs": [
    {
     "name": "stdout",
     "output_type": "stream",
     "text": [
      "Model: \"model_3\"\n",
      "_________________________________________________________________\n",
      "Layer (type)                 Output Shape              Param #   \n",
      "=================================================================\n",
      "input_4 (InputLayer)         [(None, 3072)]            0         \n",
      "_________________________________________________________________\n",
      "dense_12 (Dense)             (None, 256)               786688    \n",
      "_________________________________________________________________\n",
      "batch_normalization_9 (Batch (None, 256)               1024      \n",
      "_________________________________________________________________\n",
      "dense_13 (Dense)             (None, 256)               65792     \n",
      "_________________________________________________________________\n",
      "batch_normalization_10 (Batc (None, 256)               1024      \n",
      "_________________________________________________________________\n",
      "dense_14 (Dense)             (None, 256)               65792     \n",
      "_________________________________________________________________\n",
      "batch_normalization_11 (Batc (None, 256)               1024      \n",
      "_________________________________________________________________\n",
      "dense_15 (Dense)             (None, 10)                2570      \n",
      "=================================================================\n",
      "Total params: 923,914\n",
      "Trainable params: 922,378\n",
      "Non-trainable params: 1,536\n",
      "_________________________________________________________________\n",
      "Epoch 1/25\n",
      "49/49 [==============================] - 1s 20ms/step - loss: 2.2160 - accuracy: 0.2693 - val_loss: 2.1660 - val_accuracy: 0.1819 - val_tp: 0.0000e+00 - val_tn: 1000.0000\n",
      "Epoch 2/25\n",
      "49/49 [==============================] - 1s 17ms/step - loss: 1.7758 - accuracy: 0.3827 - val_loss: 2.0137 - val_accuracy: 0.2710 - val_tp: 0.0000e+00 - val_tn: 1000.0000\n",
      "Epoch 3/25\n",
      "49/49 [==============================] - 1s 17ms/step - loss: 1.6506 - accuracy: 0.4216 - val_loss: 1.8635 - val_accuracy: 0.3324 - val_tp: 8.0000 - val_tn: 1000.0000\n",
      "Epoch 4/25\n",
      "49/49 [==============================] - 1s 17ms/step - loss: 1.5781 - accuracy: 0.4474 - val_loss: 1.7256 - val_accuracy: 0.3960 - val_tp: 49.0000 - val_tn: 1000.0000\n",
      "Epoch 5/25\n",
      "49/49 [==============================] - 1s 18ms/step - loss: 1.5240 - accuracy: 0.4651 - val_loss: 1.6615 - val_accuracy: 0.4117 - val_tp: 96.0000 - val_tn: 1000.0000\n",
      "Epoch 6/25\n",
      "49/49 [==============================] - 1s 17ms/step - loss: 1.4813 - accuracy: 0.4817 - val_loss: 1.6016 - val_accuracy: 0.4295 - val_tp: 204.0000 - val_tn: 998.0000\n",
      "Epoch 7/25\n",
      "49/49 [==============================] - 1s 17ms/step - loss: 1.4429 - accuracy: 0.4956 - val_loss: 1.5752 - val_accuracy: 0.4402 - val_tp: 210.0000 - val_tn: 996.0000\n",
      "Epoch 8/25\n",
      "49/49 [==============================] - 1s 17ms/step - loss: 1.4098 - accuracy: 0.5076 - val_loss: 1.5472 - val_accuracy: 0.4525 - val_tp: 338.0000 - val_tn: 994.0000\n",
      "Epoch 9/25\n",
      "49/49 [==============================] - 1s 19ms/step - loss: 1.3796 - accuracy: 0.5190 - val_loss: 1.5323 - val_accuracy: 0.4579 - val_tp: 324.0000 - val_tn: 995.0000\n",
      "Epoch 10/25\n",
      "49/49 [==============================] - 1s 17ms/step - loss: 1.3530 - accuracy: 0.5270 - val_loss: 1.5135 - val_accuracy: 0.4622 - val_tp: 375.0000 - val_tn: 996.0000\n",
      "Epoch 11/25\n",
      "49/49 [==============================] - 1s 17ms/step - loss: 1.3273 - accuracy: 0.5377 - val_loss: 1.4997 - val_accuracy: 0.4668 - val_tp: 406.0000 - val_tn: 992.0000\n",
      "Epoch 12/25\n",
      "49/49 [==============================] - 1s 17ms/step - loss: 1.3039 - accuracy: 0.5475 - val_loss: 1.4979 - val_accuracy: 0.4693 - val_tp: 415.0000 - val_tn: 992.0000\n",
      "Epoch 13/25\n",
      "49/49 [==============================] - 1s 18ms/step - loss: 1.2823 - accuracy: 0.5555 - val_loss: 1.4902 - val_accuracy: 0.4735 - val_tp: 365.0000 - val_tn: 996.0000\n",
      "Epoch 14/25\n",
      "49/49 [==============================] - 1s 17ms/step - loss: 1.2608 - accuracy: 0.5638 - val_loss: 1.4788 - val_accuracy: 0.4763 - val_tp: 416.0000 - val_tn: 993.0000\n",
      "Epoch 15/25\n",
      "49/49 [==============================] - 1s 17ms/step - loss: 1.2403 - accuracy: 0.5698 - val_loss: 1.4865 - val_accuracy: 0.4739 - val_tp: 423.0000 - val_tn: 991.0000\n",
      "Epoch 16/25\n",
      "49/49 [==============================] - 1s 17ms/step - loss: 1.2197 - accuracy: 0.5790 - val_loss: 1.4796 - val_accuracy: 0.4805 - val_tp: 408.0000 - val_tn: 996.0000\n",
      "Epoch 17/25\n",
      "49/49 [==============================] - 1s 19ms/step - loss: 1.2007 - accuracy: 0.5860 - val_loss: 1.4640 - val_accuracy: 0.4831 - val_tp: 441.0000 - val_tn: 993.0000\n",
      "Epoch 18/25\n",
      "49/49 [==============================] - 1s 17ms/step - loss: 1.1828 - accuracy: 0.5926 - val_loss: 1.4766 - val_accuracy: 0.4798 - val_tp: 573.0000 - val_tn: 975.0000\n",
      "Epoch 19/25\n",
      "49/49 [==============================] - 1s 17ms/step - loss: 1.1643 - accuracy: 0.5982 - val_loss: 1.4669 - val_accuracy: 0.4838 - val_tp: 469.0000 - val_tn: 989.0000\n",
      "Epoch 20/25\n",
      "49/49 [==============================] - 1s 17ms/step - loss: 1.1456 - accuracy: 0.6074 - val_loss: 1.4604 - val_accuracy: 0.4909 - val_tp: 529.0000 - val_tn: 981.0000\n",
      "Epoch 21/25\n",
      "49/49 [==============================] - 1s 17ms/step - loss: 1.1288 - accuracy: 0.6120 - val_loss: 1.4528 - val_accuracy: 0.4890 - val_tp: 466.0000 - val_tn: 990.0000\n",
      "Epoch 22/25\n",
      "49/49 [==============================] - 1s 19ms/step - loss: 1.1125 - accuracy: 0.6187 - val_loss: 1.4636 - val_accuracy: 0.4867 - val_tp: 418.0000 - val_tn: 995.0000\n",
      "Epoch 23/25\n",
      "49/49 [==============================] - 1s 17ms/step - loss: 1.0944 - accuracy: 0.6256 - val_loss: 1.4643 - val_accuracy: 0.4914 - val_tp: 573.0000 - val_tn: 980.0000\n",
      "Epoch 24/25\n",
      "49/49 [==============================] - 1s 17ms/step - loss: 1.0790 - accuracy: 0.6307 - val_loss: 1.4619 - val_accuracy: 0.4882 - val_tp: 480.0000 - val_tn: 987.0000\n",
      "Epoch 25/25\n",
      "49/49 [==============================] - 1s 16ms/step - loss: 1.0623 - accuracy: 0.6376 - val_loss: 1.4597 - val_accuracy: 0.4896 - val_tp: 475.0000 - val_tn: 987.0000\n"
     ]
    }
   ],
   "source": [
    "model = build_mlp(input_shape=x_train.shape[1:])\n",
    "model.summary()\n",
    "optimizer = keras.optimizers.SGD(lr=LEARNING_RATE, nesterov=True, momentum=MOMENTUM)\n",
    "model.compile(loss=\"categorical_crossentropy\", metrics=[\"accuracy\"], optimizer=optimizer)\n",
    "\n",
    "\"\"\"Code Here\n",
    "將 callbacks 放入模型訓練流程中\n",
    "\"\"\"\n",
    "model.fit(x_train, y_train,\n",
    "          epochs=EPOCHS,\n",
    "          batch_size=BATCH_SIZE,\n",
    "          validation_data=(x_test,y_test),\n",
    "          shuffle=True,\n",
    "          callbacks=[rec_tptn]\n",
    "          )\n",
    "\n",
    "# Collect results\n",
    "train_loss = model.history.history[\"loss\"]\n",
    "valid_loss = model.history.history[\"val_loss\"]\n",
    "train_acc = model.history.history[\"accuracy\"]\n",
    "valid_acc = model.history.history[\"val_accuracy\"]\n",
    "\n",
    "\"\"\"Code Here\n",
    "將 tp/tn 從訓練完的模型中取出\n",
    "\"\"\"\n",
    "valid_tp = model.history.history['val_tp']\n",
    "valid_tn = model.history.history['val_tn']"
   ]
  },
  {
   "cell_type": "code",
   "execution_count": 18,
   "metadata": {},
   "outputs": [
    {
     "data": {
      "image/png": "[encoded data removed]",
      "text/plain": [
       "<Figure size 432x288 with 1 Axes>"
      ]
     },
     "metadata": {
      "needs_background": "light"
     },
     "output_type": "display_data"
    },
    {
     "data": {
      "image/png": "[encoded data removed]",
      "text/plain": [
       "<Figure size 432x288 with 1 Axes>"
      ]
     },
     "metadata": {
      "needs_background": "light"
     },
     "output_type": "display_data"
    },
    {
     "data": {
      "image/png": "[encoded data removed]",
      "text/plain": [
       "<Figure size 432x288 with 1 Axes>"
      ]
     },
     "metadata": {
      "needs_background": "light"
     },
     "output_type": "display_data"
    }
   ],
   "source": [
    "import matplotlib.pyplot as plt\n",
    "%matplotlib inline\n",
    "\n",
    "plt.plot(range(len(train_loss)), train_loss, label=\"train loss\")\n",
    "plt.plot(range(len(valid_loss)), valid_loss, label=\"valid loss\")\n",
    "plt.legend()\n",
    "plt.title(\"Loss\")\n",
    "plt.show()\n",
    "\n",
    "plt.plot(range(len(train_acc)), train_acc, label=\"train accuracy\")\n",
    "plt.plot(range(len(valid_acc)), valid_acc, label=\"valid accuracy\")\n",
    "plt.legend()\n",
    "plt.title(\"Accuracy\")\n",
    "plt.show()\n",
    "\n",
    "plt.plot(range(len(valid_tp)), valid_tp, label=\"valid tp\", color=\"navy\")\n",
    "plt.plot(range(len(valid_tn)), valid_tn, label=\"valid tn\", color=\"red\")\n",
    "plt.legend()\n",
    "plt.title(\"True positives and True Negatives\")\n",
    "plt.show()\n"
   ]
  },
  {
   "cell_type": "code",
   "execution_count": null,
   "metadata": {},
   "outputs": [],
   "source": []
  }
 ],
 "metadata": {
  "kernelspec": {
   "display_name": "Python 3",
   "language": "python",
   "name": "python3"
  },
  "language_info": {
   "codemirror_mode": {
    "name": "ipython",
    "version": 3
   },
   "file_extension": ".py",
   "mimetype": "text/x-python",
   "name": "python",
   "nbconvert_exporter": "python",
   "pygments_lexer": "ipython3",
   "version": "3.7.6"
  }
 },
 "nbformat": 4,
 "nbformat_minor": 4
}
