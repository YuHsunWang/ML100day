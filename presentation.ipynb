{
 "cells": [
  {
   "cell_type": "markdown",
   "metadata": {},
   "source": [
    "GET /log.gif?1617134399343&\n",
    "_ts_id=37063F08390D38003009.1570019781&\n",
    "type=impress&\n",
    "nick=9393933737f62736&\n",
    "ts_set=also_22035204797731_938395_000200120013&\n",
    "rule=main_also&\n",
    "shipdisc=1&\n",
    "reqstid=9a941a21-1148-449e-992e-3d1f8b78d0a7&\n",
    "position=13&\n",
    "HTTP/1.1 \n",
    "\n",
    ".withColumn(\"recommender\", F.regexp_extract(\"Request\",'(ts_set=)(\\S+)_(\\d{14})_(\\d+)_(\\d+)', 2)) \n",
    ".withColumn(\"time\", F.unix_timestamp(F.regexp_extract(\"Request\",'(log\\.gif\\?)(\\d+)', 2))) "
   ]
  },
  {
   "cell_type": "code",
   "execution_count": null,
   "metadata": {},
   "outputs": [],
   "source": [
    "#刷新次數人次表\n",
    "df_tslog.groupBy('requestId').agg(sf.max('row_order').alias('refresh_times'), F.sum('was_impressed').alias('impress_times'))  \\\n",
    ".withColumn('user',lit(1))  \\\n",
    ".groupBy('refresh_times')  \\\n",
    ".agg(F.sum('user').alias('users'),F.sum('impress_times').alias('impress_times') )  \\\n",
    ".sort(asc('refresh_times')).show(10)"
   ]
  },
  {
   "cell_type": "code",
   "execution_count": null,
   "metadata": {},
   "outputs": [],
   "source": [
    "#只看刷新次數\n",
    "df_refresh = df_tslog.groupBy('requestId','row_order').agg(F.sum('was_clicked').alias('click_times'),F.count('was_clicked').alias('impress_times'))  \\\n",
    ".groupBy('row_order').agg(F.sum('click_times').alias('click_times'), F.sum('impress_times').alias('impress_times'), F.count('requestId').alias('user_num'))  \\\n",
    ".withColumn('CTR',F.col('click_times')/F.col('impress_times'))  \\\n",
    ".withColumn('impress/user', F.col('impress_times')/F.col('user_num'))  \\\n",
    ".withColumn('click/user', F.col('click_times')/F.col('user_num'))\n",
    "df_refresh.sort(sf.asc('row_order')).show(10)"
   ]
  },
  {
   "cell_type": "code",
   "execution_count": null,
   "metadata": {},
   "outputs": [],
   "source": [
    "#impress/user by row_order"
   ]
  },
  {
   "cell_type": "code",
   "execution_count": null,
   "metadata": {},
   "outputs": [],
   "source": [
    "#刷新一次(row order==1)(row order==2)之CTR線\n",
    "df_refresh_2 = df_tslog.groupBy('requestId').agg(sf.max('row_order').alias('refresh_times')).filter(F.col('refresh_times')==2)\n",
    "df_refresh_2 = df_refresh_2.join(df_tslog,['requestId'],how='left')\n",
    "df_refresh_2 = df_refresh_2.filter(F.col('position')<=100)\n",
    "df_refresh_2.cache()\n",
    "df_refresh_2.show(1)"
   ]
  },
  {
   "cell_type": "code",
   "execution_count": null,
   "metadata": {},
   "outputs": [],
   "source": [
    "#還沒刷&刷第一次的CTR差異\n",
    "df_refresh_2 = df_refresh_2.groupBy('row_order','position','recommender').agg(F.sum('was_impressed').alias('impress_times'), F.sum('was_clicked').alias('clicked_times'))"
   ]
  },
  {
   "cell_type": "code",
   "execution_count": null,
   "metadata": {},
   "outputs": [],
   "source": [
    "%%spark -o df_refresh_2 -n -1"
   ]
  },
  {
   "cell_type": "code",
   "execution_count": null,
   "metadata": {},
   "outputs": [],
   "source": [
    "%%local\n",
    "df = df_refresh_2.groupBy(['row_order','position']).agg('sum')"
   ]
  },
  {
   "cell_type": "code",
   "execution_count": null,
   "metadata": {},
   "outputs": [],
   "source": [
    "#各個recall 還沒刷&刷第一次在的CTR差異\n"
   ]
  },
  {
   "cell_type": "code",
   "execution_count": null,
   "metadata": {},
   "outputs": [],
   "source": [
    "#刷新二次\n",
    "df_refresh_3 = df_tslog.groupBy('requestId').agg(sf.max('row_order').alias('refresh_times')).filter(F.col('refresh_times')==3)\n",
    "df_refresh_3 = df_refresh_2.join(df_tslog,['requestId'],how='left')\n",
    "df_refresh_3 = df_refresh_2.filter(F.col('position')<=100)\n",
    "df_refresh_3.cache()\n",
    "df_refresh_3.show(1)"
   ]
  },
  {
   "cell_type": "code",
   "execution_count": null,
   "metadata": {},
   "outputs": [],
   "source": [
    "#刷二次的人次\n",
    "df_refresh_3.groupBy('requestId').count()"
   ]
  },
  {
   "cell_type": "code",
   "execution_count": null,
   "metadata": {},
   "outputs": [],
   "source": []
  },
  {
   "cell_type": "code",
   "execution_count": null,
   "metadata": {},
   "outputs": [],
   "source": []
  },
  {
   "cell_type": "code",
   "execution_count": null,
   "metadata": {},
   "outputs": [],
   "source": [
    "#discount\n",
    "df_discount = df_tslog.filter(F.col('position')<=100).groupBy(['position','sellerDiscount','rutenDiscount','noShippingCost','pCoin','oversea','shippingDiscount','campaign','limitesDeliver'])  \\\n",
    ".agg(F.sum('was_clicked').alias('click_times'),F.count('was_clicked').alias('impress_times'))"
   ]
  },
  {
   "cell_type": "code",
   "execution_count": null,
   "metadata": {},
   "outputs": [],
   "source": [
    "%%spark -o discount -n -1"
   ]
  },
  {
   "cell_type": "code",
   "execution_count": null,
   "metadata": {},
   "outputs": [],
   "source": [
    "%%local\n",
    "discount_list = ['sellerDiscount','rutenDiscount','noShippingCost','pCoin','oversea','shippingDiscount','campaign','limitesDeliver']\n",
    "fig , ax = plt.subplots()\n",
    "fig.subplots_adjust(hspace=0.4, wspace=0.4) #設定子圖的間隔\n",
    "for i, discount in enumerate(discount_list):\n",
    "    df = df_discount.groupby(['position',discount]).agg({\"click_times\":\"sum\",\"impress_times\":\"sum\"})\n",
    "    df['CTR'] = df[('click_times','sum')] / df[('impress_times','sum')] \n",
    "    df = df.sort_values('position')\n",
    "    plt.subplot(3, 3, i)\n",
    "    plt.plot(df[df[discount]==0]['position'], df[df[discount]==0]['CTR'], color = 'r', label='0')\n",
    "    plt.plot(df[df[discount]==1]['position'], df[df[discount]==1]['CTR'], color = 'b', label='1')\n",
    "    plt.set_ticklabels([])\n",
    "    plt.legend()"
   ]
  }
 ],
 "metadata": {
  "kernelspec": {
   "display_name": "Python 3",
   "language": "python",
   "name": "python3"
  },
  "language_info": {
   "codemirror_mode": {
    "name": "ipython",
    "version": 3
   },
   "file_extension": ".py",
   "mimetype": "text/x-python",
   "name": "python",
   "nbconvert_exporter": "python",
   "pygments_lexer": "ipython3",
   "version": "3.8.5"
  }
 },
 "nbformat": 4,
 "nbformat_minor": 4
}
