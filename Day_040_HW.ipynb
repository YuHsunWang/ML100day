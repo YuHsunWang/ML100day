{
 "cells": [
  {
   "cell_type": "markdown",
   "metadata": {},
   "source": [
    "## [作業重點]\n",
    "使用 Sklearn 中的 Lasso, Ridge 模型，來訓練各種資料集，務必了解送進去模型訓練的**資料型態**為何，也請了解模型中各項參數的意義。\n",
    "\n",
    "機器學習的模型非常多種，但要訓練的資料多半有固定的格式，確保你了解訓練資料的格式為何，這樣在應用新模型時，就能夠最快的上手開始訓練！"
   ]
  },
  {
   "cell_type": "markdown",
   "metadata": {},
   "source": [
    "## 練習時間\n",
    "試著使用 sklearn datasets 的其他資料集 (boston, ...)，來訓練自己的線性迴歸模型，並加上適當的正則化來觀察訓練情形。"
   ]
  },
  {
   "cell_type": "code",
   "execution_count": 7,
   "metadata": {},
   "outputs": [],
   "source": [
    "from sklearn import datasets, linear_model\n",
    "from sklearn.model_selection import train_test_split\n",
    "from sklearn.metrics import mean_squared_error\n",
    "import numpy as np\n",
    "import pandas as pd\n",
    "import matplotlib.pyplot as plt"
   ]
  },
  {
   "cell_type": "code",
   "execution_count": 2,
   "metadata": {},
   "outputs": [],
   "source": [
    "boston = datasets.load_boston()"
   ]
  },
  {
   "cell_type": "markdown",
   "metadata": {},
   "source": [
    "# OLS"
   ]
  },
  {
   "cell_type": "code",
   "execution_count": 4,
   "metadata": {},
   "outputs": [],
   "source": [
    "X_train, X_test, y_train, y_test = train_test_split(boston.data,boston.target,test_size=0.2)"
   ]
  },
  {
   "cell_type": "code",
   "execution_count": 5,
   "metadata": {},
   "outputs": [],
   "source": [
    "linear = linear_model.LinearRegression()\n",
    "linear.fit(X_train,y_train)\n",
    "y_pred = linear.predict(X_test)"
   ]
  },
  {
   "cell_type": "code",
   "execution_count": 6,
   "metadata": {},
   "outputs": [
    {
     "name": "stdout",
     "output_type": "stream",
     "text": [
      "[-7.99664097e-02  5.08063378e-02  7.58982315e-02  2.51292825e+00\n",
      " -1.63252671e+01  4.33166096e+00 -1.04729224e-02 -1.49298630e+00\n",
      "  2.60391829e-01 -1.18970552e-02 -9.16721314e-01  1.00046277e-02\n",
      " -5.35076335e-01]\n"
     ]
    }
   ],
   "source": [
    "print(linear.coef_)"
   ]
  },
  {
   "cell_type": "code",
   "execution_count": 9,
   "metadata": {},
   "outputs": [
    {
     "name": "stdout",
     "output_type": "stream",
     "text": [
      "23.684188575470163\n"
     ]
    }
   ],
   "source": [
    "print(mean_squared_error(y_pred,y_test))"
   ]
  },
  {
   "cell_type": "markdown",
   "metadata": {},
   "source": [
    "# Lasso"
   ]
  },
  {
   "cell_type": "code",
   "execution_count": 16,
   "metadata": {},
   "outputs": [],
   "source": [
    "mse = []\n",
    "coef = []\n",
    "for i in np.arange(0.2,2,0.2):\n",
    "    lasso = linear_model.Lasso(alpha=i)\n",
    "    lasso.fit(X_train,y_train)\n",
    "    y_pred = lasso.predict(X_test)\n",
    "    mse.append(mean_squared_error(y_pred,y_test))\n",
    "    coef.append(lasso.coef_)"
   ]
  },
  {
   "cell_type": "code",
   "execution_count": 18,
   "metadata": {},
   "outputs": [
    {
     "data": {
      "text/plain": [
       "[24.609411257162375,\n",
       " 24.106655854841392,\n",
       " 24.013104779776157,\n",
       " 24.211867486494842,\n",
       " 24.74092723951493,\n",
       " 25.6005538145705,\n",
       " 26.790626692876778,\n",
       " 27.021136370047188,\n",
       " 27.209269103790508]"
      ]
     },
     "execution_count": 18,
     "metadata": {},
     "output_type": "execute_result"
    }
   ],
   "source": [
    "mse"
   ]
  },
  {
   "cell_type": "code",
   "execution_count": 17,
   "metadata": {},
   "outputs": [
    {
     "data": {
      "text/plain": [
       "[array([-0.06007733,  0.05211116,  0.00417171,  0.        , -0.        ,\n",
       "         3.90977451, -0.01397386, -1.17886583,  0.22468144, -0.01374659,\n",
       "        -0.75576997,  0.01068488, -0.60561506]),\n",
       " array([-0.05078053,  0.05233359,  0.        ,  0.        , -0.        ,\n",
       "         3.24396777, -0.00480199, -1.06988865,  0.21938742, -0.0136145 ,\n",
       "        -0.7515126 ,  0.01010955, -0.6518407 ]),\n",
       " array([-0.04172892,  0.05205286,  0.        ,  0.        , -0.        ,\n",
       "         2.61092513,  0.        , -0.98536838,  0.21427825, -0.01350007,\n",
       "        -0.74592025,  0.009593  , -0.69238758]),\n",
       " array([-0.03239903,  0.05215978,  0.        ,  0.        , -0.        ,\n",
       "         1.95885207,  0.00755414, -0.88235185,  0.20982402, -0.01345607,\n",
       "        -0.74145712,  0.00904379, -0.73683911]),\n",
       " array([-0.02305058,  0.0522779 ,  0.        ,  0.        , -0.        ,\n",
       "         1.30629847,  0.01518355, -0.77884506,  0.20535314, -0.01341282,\n",
       "        -0.73700816,  0.00849358, -0.78139942]),\n",
       " array([-0.01370186,  0.05239614,  0.        ,  0.        , -0.        ,\n",
       "         0.65374938,  0.02281276, -0.67534106,  0.20088094, -0.01336952,\n",
       "        -0.73255789,  0.00794336, -0.82595927]),\n",
       " array([-0.00435803,  0.05251537,  0.        ,  0.        , -0.        ,\n",
       "         0.00117531,  0.03044249, -0.57183954,  0.19641891, -0.01332658,\n",
       "        -0.72810762,  0.0073931 , -0.87051998]),\n",
       " array([-0.        ,  0.04884508,  0.        ,  0.        , -0.        ,\n",
       "         0.        ,  0.03395623, -0.44673343,  0.178218  , -0.01254319,\n",
       "        -0.69224658,  0.00725438, -0.86764814]),\n",
       " array([-0.        ,  0.04531161,  0.        ,  0.        , -0.        ,\n",
       "         0.        ,  0.0374112 , -0.32330757,  0.1622047 , -0.01177508,\n",
       "        -0.65640448,  0.00708001, -0.86359164])]"
      ]
     },
     "execution_count": 17,
     "metadata": {},
     "output_type": "execute_result"
    }
   ],
   "source": [
    "coef"
   ]
  },
  {
   "cell_type": "markdown",
   "metadata": {},
   "source": [
    "# Ridge"
   ]
  },
  {
   "cell_type": "code",
   "execution_count": 23,
   "metadata": {},
   "outputs": [],
   "source": [
    "mse = []\n",
    "coef = []\n",
    "for i in np.arange(0.2,2,0.2):\n",
    "    ridge = linear_model.Ridge(alpha=i)\n",
    "    ridge.fit(X_train,y_train)\n",
    "    y_pred = ridge.predict(X_test)\n",
    "    mse.append(mean_squared_error(y_pred,y_test))\n",
    "    coef.append(ridge.coef_)"
   ]
  },
  {
   "cell_type": "code",
   "execution_count": 24,
   "metadata": {},
   "outputs": [
    {
     "data": {
      "text/plain": [
       "[23.815335276650295,\n",
       " 23.931978260859644,\n",
       " 24.032860591869337,\n",
       " 24.119338330898827,\n",
       " 24.193356563477685,\n",
       " 24.25680595833951,\n",
       " 24.31133990002174,\n",
       " 24.358348464728245,\n",
       " 24.398982915774205]"
      ]
     },
     "execution_count": 24,
     "metadata": {},
     "output_type": "execute_result"
    }
   ],
   "source": [
    "mse"
   ]
  },
  {
   "cell_type": "code",
   "execution_count": 25,
   "metadata": {},
   "outputs": [
    {
     "data": {
      "text/plain": [
       "[array([-7.75917633e-02,  5.09799081e-02,  6.59804759e-02,  2.50983592e+00,\n",
       "        -1.40749542e+01,  4.35292384e+00, -1.26244086e-02, -1.46201261e+00,\n",
       "         2.53693112e-01, -1.20315998e-02, -8.90705108e-01,  1.01346661e-02,\n",
       "        -5.38122742e-01]),\n",
       " array([-7.58151397e-02,  5.11218798e-02,  5.84833302e-02,  2.50305464e+00,\n",
       "        -1.23713201e+01,  4.36693926e+00, -1.42304414e-02, -1.43856922e+00,\n",
       "         2.48714304e-01, -1.21377505e-02, -8.71167883e-01,  1.02319635e-02,\n",
       "        -5.40588669e-01]),\n",
       " array([-7.44419143e-02,  5.12424408e-02,  5.26196537e-02,  2.49387227e+00,\n",
       "        -1.10367134e+01,  4.37607243e+00, -1.54684591e-02, -1.42020835e+00,\n",
       "         2.44895368e-01, -1.22246716e-02, -8.56002308e-01,  1.03071576e-02,\n",
       "        -5.42661693e-01]),\n",
       " array([-0.07335356,  0.0513478 ,  0.04791005,  2.48307078, -9.96293407,\n",
       "         4.38176385, -0.01644653, -1.4054392 ,  0.24189523, -0.01229795,\n",
       "        -0.84392493,  0.01036673, -0.54445607]),\n",
       " array([-0.07247375,  0.05144195,  0.04404586,  2.47115156, -9.08031566,\n",
       "         4.38494099, -0.01723423, -1.39330186,  0.23949431, -0.01236117,\n",
       "        -0.83410942,  0.01041485, -0.54604539]),\n",
       " array([-0.07175115,  0.05152758,  0.04081939,  2.45845014, -8.34197392,\n",
       "         4.38622798, -0.01787838, -1.38315036,  0.23754485, -0.01241677,\n",
       "        -0.82599969,  0.01045432, -0.54747916]),\n",
       " array([-0.07114992,  0.05160657,  0.03808573,  2.44519899, -7.71519785,\n",
       "         4.38606024, -0.01841164, -1.37453401,  0.23594379, -0.01246642,\n",
       "        -0.8192078 ,  0.01048711, -0.54879197]),\n",
       " array([-0.07064433,  0.05168027,  0.03574073,  2.43156373, -7.17647026,\n",
       "         4.38475078, -0.01885751, -1.36712879,  0.23461702, -0.01251136,\n",
       "        -0.81345486,  0.01051462, -0.55000865]),\n",
       " array([-0.07021537,  0.05174967,  0.03370756,  2.41766516, -6.70844979,\n",
       "         4.3825304 , -0.01923328, -1.36069578,  0.23350994, -0.01255247,\n",
       "        -0.80853525,  0.0105379 , -0.55114756])]"
      ]
     },
     "execution_count": 25,
     "metadata": {},
     "output_type": "execute_result"
    }
   ],
   "source": [
    "coef"
   ]
  },
  {
   "cell_type": "code",
   "execution_count": null,
   "metadata": {},
   "outputs": [],
   "source": []
  }
 ],
 "metadata": {
  "kernelspec": {
   "display_name": "Python 3",
   "language": "python",
   "name": "python3"
  },
  "language_info": {
   "codemirror_mode": {
    "name": "ipython",
    "version": 3
   },
   "file_extension": ".py",
   "mimetype": "text/x-python",
   "name": "python",
   "nbconvert_exporter": "python",
   "pygments_lexer": "ipython3",
   "version": "3.7.4"
  }
 },
 "nbformat": 4,
 "nbformat_minor": 2
}
